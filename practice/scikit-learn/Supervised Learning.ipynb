{
 "cells": [
  {
   "cell_type": "code",
   "execution_count": 3,
   "metadata": {},
   "outputs": [
    {
     "data": {
      "text/plain": [
       "array([0, 1, 2])"
      ]
     },
     "execution_count": 3,
     "metadata": {},
     "output_type": "execute_result"
    }
   ],
   "source": [
    "import numpy as np\n",
    "from sklearn import datasets\n",
    "\n",
    "iris_X,iris_y = datasets.load_iris(return_X_y=True)\n",
    "np.unique(iris_y)"
   ]
  },
  {
   "cell_type": "code",
   "execution_count": 5,
   "metadata": {},
   "outputs": [],
   "source": [
    "# 糖尿病を把握するデータセット\n",
    "# データは、https://github.com/education454/diabetes_dataset/blob/master/diabetes.csvに定義されている\n",
    "diabetes_X, diabetes_y = datasets.load_diabetes(return_X_y=True)\n",
    "diabetes_X_train = diabetes_X[:-20]\n",
    "diabetes_X_test  = diabetes_X[-20:]\n",
    "diabetes_y_train = diabetes_y[:-20]\n",
    "diabetes_y_test  = diabetes_y[-20:]"
   ]
  },
  {
   "cell_type": "code",
   "execution_count": 8,
   "metadata": {},
   "outputs": [
    {
     "name": "stdout",
     "output_type": "stream",
     "text": [
      "[ 3.03499549e-01 -2.37639315e+02  5.10530605e+02  3.27736980e+02\n",
      " -8.14131709e+02  4.92814588e+02  1.02848452e+02  1.84606489e+02\n",
      "  7.43519617e+02  7.60951722e+01]\n",
      "2004.5676026898213\n"
     ]
    },
    {
     "data": {
      "text/plain": [
       "0.5850753022690574"
      ]
     },
     "execution_count": 8,
     "metadata": {},
     "output_type": "execute_result"
    }
   ],
   "source": [
    "from sklearn import linear_model\n",
    "regr = linear_model.LinearRegression()\n",
    "regr.fit(diabetes_X_train, diabetes_y_train)\n",
    "\n",
    "print(regr.coef_)\n",
    "# 損失値を求める\n",
    "print(np.mean((regr.predict(diabetes_X_test) - diabetes_y_test)**2))\n",
    "\n",
    "# 正答率を求める\n",
    "regr.score(diabetes_X_test,diabetes_y_test)"
   ]
  },
  {
   "cell_type": "code",
   "execution_count": 21,
   "metadata": {},
   "outputs": [
    {
     "data": {
      "text/plain": [
       "array([1, 2, 1, 0, 0, 0, 2, 1, 2, 0])"
      ]
     },
     "execution_count": 21,
     "metadata": {},
     "output_type": "execute_result"
    }
   ],
   "source": [
    "np.random.seed(0)\n",
    "# データセットを分割する train_test_splitと同じ処理\n",
    "indices = np.random.permutation(len(iris_X)) # ランダムに取り出すデータ番号を決める\n",
    "iris_X_train = iris_X[indices[:-10]] \n",
    "iris_y_train = iris_y[indices[:-10]]\n",
    "iris_X_test = iris_X[indices[-10:]]\n",
    "iris_y_test = iris_y[indices[-10:]]\n",
    "\n",
    "from sklearn.neighbors import KNeighborsClassifier\n",
    "\n",
    "knn = KNeighborsClassifier()\n",
    "knn.fit(iris_X_train,iris_y_train)\n",
    "knn.predict(iris_X_test)"
   ]
  },
  {
   "cell_type": "code",
   "execution_count": 33,
   "metadata": {
    "scrolled": true
   },
   "outputs": [
    {
     "name": "stdout",
     "output_type": "stream",
     "text": [
      "(150, 4)\n"
     ]
    },
    {
     "data": {
      "text/plain": [
       "\"\\nZ = knn.predict(np.c_[xx.ravel(), yy.ravel()])\\n\\n# Put the result into a color plot\\nZ = Z.reshape(xx.shape)\\npl.figure(1, figsize=(4, 3))\\npl.set_cmap(pl.cm.Paired)\\npl.pcolormesh(xx, yy, Z)\\n\\n# Plot also the training points\\npl.scatter(X[:,0], X[:,1],c=Y )\\npl.xlabel('Sepal length')\\npl.ylabel('Sepal width')\\n\\npl.xlim(xx.min(), xx.max())\\npl.ylim(yy.min(), yy.max())\\npl.xticks(())\\npl.yticks(())\\n\\npl.show()\\n\""
      ]
     },
     "execution_count": 33,
     "metadata": {},
     "output_type": "execute_result"
    }
   ],
   "source": [
    "# Code source: Gael Varoqueux\n",
    "# Modified for Documentation merge by Jaques Grobler\n",
    "# License: BSD\n",
    "\n",
    "# これを修正して、上記で学習したknnモデルを可視化するように書いてみる\n",
    "import pylab as pl\n",
    "\n",
    "h = .02 # step size in the mesh\n",
    "\n",
    "# Plot the decision boundary. For that, we will asign a color to each\n",
    "# point in the mesh [x_min, m_max]x[y_min, y_max].\n",
    "\n",
    "## 可視化用の横軸と縦軸の最大値を求めている\n",
    "x_min, x_max = iris_X[:,0].min() - .5, iris_X[:,0].max() + .5\n",
    "y_min, y_max = iris_X[:,1].min() - .5, iris_X[:,1].max() + .5\n",
    "xx, yy = np.meshgrid(np.arange(x_min, x_max, h), np.arange(y_min, y_max, h))\n",
    "#iris = datasets.load_iris()\n",
    "print(xx.shape,iris_X_train.shape)\n",
    "\"\"\"\n",
    "Z = knn.predict(np.c_[xx.ravel(), yy.ravel()])\n",
    "\n",
    "# Put the result into a color plot\n",
    "Z = Z.reshape(xx.shape)\n",
    "pl.figure(1, figsize=(4, 3))\n",
    "pl.set_cmap(pl.cm.Paired)\n",
    "pl.pcolormesh(xx, yy, Z)\n",
    "\n",
    "# Plot also the training points\n",
    "pl.scatter(X[:,0], X[:,1],c=Y )\n",
    "pl.xlabel('Sepal length')\n",
    "pl.ylabel('Sepal width')\n",
    "\n",
    "pl.xlim(xx.min(), xx.max())\n",
    "pl.ylim(yy.min(), yy.max())\n",
    "pl.xticks(())\n",
    "pl.yticks(())\n",
    "\n",
    "pl.show()\n",
    "\"\"\""
   ]
  },
  {
   "cell_type": "code",
   "execution_count": null,
   "metadata": {},
   "outputs": [],
   "source": []
  },
  {
   "cell_type": "code",
   "execution_count": null,
   "metadata": {},
   "outputs": [],
   "source": []
  }
 ],
 "metadata": {
  "kernelspec": {
   "display_name": "Python 3",
   "language": "python",
   "name": "python3"
  },
  "language_info": {
   "codemirror_mode": {
    "name": "ipython",
    "version": 3
   },
   "file_extension": ".py",
   "mimetype": "text/x-python",
   "name": "python",
   "nbconvert_exporter": "python",
   "pygments_lexer": "ipython3",
   "version": "3.8.10"
  }
 },
 "nbformat": 4,
 "nbformat_minor": 4
}
